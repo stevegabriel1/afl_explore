{
  "nbformat": 4,
  "nbformat_minor": 0,
  "metadata": {
    "kernelspec": {
      "display_name": "Python 3 (ipykernel)",
      "language": "python",
      "name": "python3"
    },
    "language_info": {
      "codemirror_mode": {
        "name": "ipython",
        "version": 3
      },
      "file_extension": ".py",
      "mimetype": "text/x-python",
      "name": "python",
      "nbconvert_exporter": "python",
      "pygments_lexer": "ipython3",
      "version": "3.9.6"
    },
    "colab": {
      "name": "afl_data_processing_mod.ipynb",
      "provenance": [],
      "include_colab_link": true
    }
  },
  "cells": [
    {
      "cell_type": "markdown",
      "metadata": {
        "id": "view-in-github",
        "colab_type": "text"
      },
      "source": [
        "<a href=\"https://colab.research.google.com/github/stevegabriel1/afl_explore/blob/master/afl_data_processing_mod.ipynb\" target=\"_parent\"><img src=\"https://colab.research.google.com/assets/colab-badge.svg\" alt=\"Open In Colab\"/></a>"
      ]
    },
    {
      "cell_type": "markdown",
      "metadata": {
        "id": "KixwsOneqSwV"
      },
      "source": [
        "Required initial steps:\n",
        "    \n",
        "    1. The text file from https://afltables.com/afl/stats/biglists/bg3.txt is saved as llist.txt within the data_projects/sports_data folder.\n",
        "    \n",
        "    2. The file is then processed through the bash script file a_updater.sh to convert it to a csv: Type the following in Terminal:  ./a_updater.sh [from the data_projects/sports_data directory]\n",
        "    \n",
        "    3. Copy to afl_dataexploration subfolder. The bash file saves the processed file as newlist.csv, ready to be imported from within Jupyter as below."
      ]
    },
    {
      "cell_type": "code",
      "metadata": {
        "id": "Pzd0ffRNqSwZ",
        "outputId": "02096b49-167e-4924-8873-108f41db6864"
      },
      "source": [
        "import urllib.request    \n",
        "urllib.request.urlretrieve(\"https://afltables.com/afl/stats/biglists/bg3.txt\", \"llist.txt\")"
      ],
      "execution_count": null,
      "outputs": [
        {
          "data": {
            "text/plain": [
              "('llist.txt', <http.client.HTTPMessage at 0x10f3352b0>)"
            ]
          },
          "execution_count": 1,
          "metadata": {},
          "output_type": "execute_result"
        }
      ]
    },
    {
      "cell_type": "markdown",
      "metadata": {
        "id": "1-43rOxJqSwb"
      },
      "source": [
        "### **Now, run a_updater.sh from the command line as above**"
      ]
    },
    {
      "cell_type": "code",
      "metadata": {
        "id": "NhCxi3sBqSwc"
      },
      "source": [
        "import os"
      ],
      "execution_count": null,
      "outputs": []
    },
    {
      "cell_type": "code",
      "metadata": {
        "id": "_V7Rn7v8qSwc",
        "outputId": "54b75ffd-3d1a-4896-8a42-6c4bd45095bf"
      },
      "source": [
        "os.getcwd()"
      ],
      "execution_count": null,
      "outputs": [
        {
          "data": {
            "text/plain": [
              "'/Users/steve_gabriel/Documents/data_projects/sports_etc/afl_allgames/afl_explore'"
            ]
          },
          "execution_count": 3,
          "metadata": {},
          "output_type": "execute_result"
        }
      ]
    },
    {
      "cell_type": "code",
      "metadata": {
        "id": "BNBEX4gJqSwd"
      },
      "source": [
        "import pandas as pd\n",
        "cols = ['seq','date','round','team1','gls_1','bhs_1','pts_1','team2','gls_2','bhs_2','pts_2','venue']"
      ],
      "execution_count": null,
      "outputs": []
    },
    {
      "cell_type": "code",
      "metadata": {
        "id": "eKK6hQfHqSwe"
      },
      "source": [
        "upd_round = pd.read_csv(\"newlist.csv\", names = cols)\n",
        "trans = upd_round"
      ],
      "execution_count": null,
      "outputs": []
    },
    {
      "cell_type": "code",
      "metadata": {
        "id": "iWI44ZkdqSwe",
        "outputId": "3a0bed23-19ad-40e3-8c93-ccaab6687bc1"
      },
      "source": [
        "# Modify index to start at 1 \n",
        "trans.index += 1\n",
        "trans.tail(9)"
      ],
      "execution_count": null,
      "outputs": [
        {
          "data": {
            "text/html": [
              "<div>\n",
              "<style scoped>\n",
              "    .dataframe tbody tr th:only-of-type {\n",
              "        vertical-align: middle;\n",
              "    }\n",
              "\n",
              "    .dataframe tbody tr th {\n",
              "        vertical-align: top;\n",
              "    }\n",
              "\n",
              "    .dataframe thead th {\n",
              "        text-align: right;\n",
              "    }\n",
              "</style>\n",
              "<table border=\"1\" class=\"dataframe\">\n",
              "  <thead>\n",
              "    <tr style=\"text-align: right;\">\n",
              "      <th></th>\n",
              "      <th>seq</th>\n",
              "      <th>date</th>\n",
              "      <th>round</th>\n",
              "      <th>team1</th>\n",
              "      <th>gls_1</th>\n",
              "      <th>bhs_1</th>\n",
              "      <th>pts_1</th>\n",
              "      <th>team2</th>\n",
              "      <th>gls_2</th>\n",
              "      <th>bhs_2</th>\n",
              "      <th>pts_2</th>\n",
              "      <th>venue</th>\n",
              "    </tr>\n",
              "  </thead>\n",
              "  <tbody>\n",
              "    <tr>\n",
              "      <th>15966</th>\n",
              "      <td>15966</td>\n",
              "      <td>20-Aug-2021</td>\n",
              "      <td>R23</td>\n",
              "      <td>Western Bulldogs</td>\n",
              "      <td>10</td>\n",
              "      <td>4</td>\n",
              "      <td>64</td>\n",
              "      <td>Port Adelaide</td>\n",
              "      <td>9</td>\n",
              "      <td>12</td>\n",
              "      <td>66</td>\n",
              "      <td>Docklands</td>\n",
              "    </tr>\n",
              "    <tr>\n",
              "      <th>15967</th>\n",
              "      <td>15967</td>\n",
              "      <td>21-Aug-2021</td>\n",
              "      <td>R23</td>\n",
              "      <td>Richmond</td>\n",
              "      <td>12</td>\n",
              "      <td>11</td>\n",
              "      <td>83</td>\n",
              "      <td>Hawthorn</td>\n",
              "      <td>12</td>\n",
              "      <td>11</td>\n",
              "      <td>83</td>\n",
              "      <td>M.C.G.</td>\n",
              "    </tr>\n",
              "    <tr>\n",
              "      <th>15968</th>\n",
              "      <td>15968</td>\n",
              "      <td>21-Aug-2021</td>\n",
              "      <td>R23</td>\n",
              "      <td>Sydney</td>\n",
              "      <td>21</td>\n",
              "      <td>10</td>\n",
              "      <td>136</td>\n",
              "      <td>Gold Coast</td>\n",
              "      <td>6</td>\n",
              "      <td>13</td>\n",
              "      <td>49</td>\n",
              "      <td>Docklands</td>\n",
              "    </tr>\n",
              "    <tr>\n",
              "      <th>15969</th>\n",
              "      <td>15969</td>\n",
              "      <td>21-Aug-2021</td>\n",
              "      <td>R23</td>\n",
              "      <td>Brisbane Lions</td>\n",
              "      <td>19</td>\n",
              "      <td>11</td>\n",
              "      <td>125</td>\n",
              "      <td>West Coast</td>\n",
              "      <td>13</td>\n",
              "      <td>9</td>\n",
              "      <td>87</td>\n",
              "      <td>Gabba</td>\n",
              "    </tr>\n",
              "    <tr>\n",
              "      <th>15970</th>\n",
              "      <td>15970</td>\n",
              "      <td>21-Aug-2021</td>\n",
              "      <td>R23</td>\n",
              "      <td>Geelong</td>\n",
              "      <td>12</td>\n",
              "      <td>5</td>\n",
              "      <td>77</td>\n",
              "      <td>Melbourne</td>\n",
              "      <td>12</td>\n",
              "      <td>9</td>\n",
              "      <td>81</td>\n",
              "      <td>Kardinia Park</td>\n",
              "    </tr>\n",
              "    <tr>\n",
              "      <th>15971</th>\n",
              "      <td>15971</td>\n",
              "      <td>21-Aug-2021</td>\n",
              "      <td>R23</td>\n",
              "      <td>Carlton</td>\n",
              "      <td>11</td>\n",
              "      <td>9</td>\n",
              "      <td>75</td>\n",
              "      <td>GW Sydney</td>\n",
              "      <td>12</td>\n",
              "      <td>17</td>\n",
              "      <td>89</td>\n",
              "      <td>Docklands</td>\n",
              "    </tr>\n",
              "    <tr>\n",
              "      <th>15972</th>\n",
              "      <td>15972</td>\n",
              "      <td>22-Aug-2021</td>\n",
              "      <td>R23</td>\n",
              "      <td>St Kilda</td>\n",
              "      <td>17</td>\n",
              "      <td>5</td>\n",
              "      <td>107</td>\n",
              "      <td>Fremantle</td>\n",
              "      <td>6</td>\n",
              "      <td>13</td>\n",
              "      <td>49</td>\n",
              "      <td>Bellerive Oval</td>\n",
              "    </tr>\n",
              "    <tr>\n",
              "      <th>15973</th>\n",
              "      <td>15973</td>\n",
              "      <td>22-Aug-2021</td>\n",
              "      <td>R23</td>\n",
              "      <td>Essendon</td>\n",
              "      <td>16</td>\n",
              "      <td>6</td>\n",
              "      <td>102</td>\n",
              "      <td>Collingwood</td>\n",
              "      <td>9</td>\n",
              "      <td>10</td>\n",
              "      <td>64</td>\n",
              "      <td>M.C.G.</td>\n",
              "    </tr>\n",
              "    <tr>\n",
              "      <th>15974</th>\n",
              "      <td>15974</td>\n",
              "      <td>22-Aug-2021</td>\n",
              "      <td>R23</td>\n",
              "      <td>Adelaide</td>\n",
              "      <td>13</td>\n",
              "      <td>20</td>\n",
              "      <td>98</td>\n",
              "      <td>North Melbourne</td>\n",
              "      <td>8</td>\n",
              "      <td>6</td>\n",
              "      <td>54</td>\n",
              "      <td>Adelaide Oval</td>\n",
              "    </tr>\n",
              "  </tbody>\n",
              "</table>\n",
              "</div>"
            ],
            "text/plain": [
              "         seq         date round             team1  gls_1  bhs_1  pts_1  \\\n",
              "15966  15966  20-Aug-2021   R23  Western Bulldogs     10      4     64   \n",
              "15967  15967  21-Aug-2021   R23          Richmond     12     11     83   \n",
              "15968  15968  21-Aug-2021   R23            Sydney     21     10    136   \n",
              "15969  15969  21-Aug-2021   R23    Brisbane Lions     19     11    125   \n",
              "15970  15970  21-Aug-2021   R23           Geelong     12      5     77   \n",
              "15971  15971  21-Aug-2021   R23           Carlton     11      9     75   \n",
              "15972  15972  22-Aug-2021   R23          St Kilda     17      5    107   \n",
              "15973  15973  22-Aug-2021   R23          Essendon     16      6    102   \n",
              "15974  15974  22-Aug-2021   R23          Adelaide     13     20     98   \n",
              "\n",
              "                 team2  gls_2  bhs_2  pts_2           venue  \n",
              "15966    Port Adelaide      9     12     66       Docklands  \n",
              "15967         Hawthorn     12     11     83          M.C.G.  \n",
              "15968       Gold Coast      6     13     49       Docklands  \n",
              "15969       West Coast     13      9     87           Gabba  \n",
              "15970        Melbourne     12      9     81   Kardinia Park  \n",
              "15971        GW Sydney     12     17     89       Docklands  \n",
              "15972        Fremantle      6     13     49  Bellerive Oval  \n",
              "15973      Collingwood      9     10     64          M.C.G.  \n",
              "15974  North Melbourne      8      6     54   Adelaide Oval  "
            ]
          },
          "execution_count": 6,
          "metadata": {},
          "output_type": "execute_result"
        }
      ]
    },
    {
      "cell_type": "code",
      "metadata": {
        "id": "Y41Z_vJjqSwf"
      },
      "source": [
        "# Add states\n",
        "nsw = ['S.C.G.','Sydney Showground','Stadium Australia','Blacktown','Albury']\n",
        "qld = ['Gabba','Carrara','Cazaly\\'s Stadium','Brisbane Exhibition','Riverway Stadium']\n",
        "sa = ['Football Park','Adelaide Oval']\n",
        "wa = ['W.A.C.A.','Perth Stadium','Subiaco']\n",
        "nt = ['Marrara Oval','Traeger Park']\n",
        "tas = ['York Park','Bellerive Oval','North Hobart']\n",
        "act = ['Manuka Oval','Bruce Stadium']\n",
        "intl = ['Wellington','Jiangwan Stadium']"
      ],
      "execution_count": null,
      "outputs": []
    },
    {
      "cell_type": "code",
      "metadata": {
        "id": "Xb6nqHgFqSwg"
      },
      "source": [
        "def locations(x):\n",
        "    if x in nsw:\n",
        "        return \"NSW\"\n",
        "    elif x in sa:\n",
        "        return \"SA\"\n",
        "    elif x in wa:\n",
        "        return \"WA\"\n",
        "    elif x in nt:\n",
        "        return \"NT\"\n",
        "    elif x in tas:\n",
        "        return \"TAS\"\n",
        "    elif x in intl:\n",
        "        return \"INTL\"\n",
        "    elif x in act:\n",
        "        return \"ACT\"\n",
        "    elif x in qld:\n",
        "        return \"QLD\"\n",
        "    else: \n",
        "        return \"VIC\""
      ],
      "execution_count": null,
      "outputs": []
    },
    {
      "cell_type": "code",
      "metadata": {
        "id": "zwolEv3-qSwh",
        "outputId": "489878c8-2a1b-4ed8-e082-d070fc79940b"
      },
      "source": [
        "trans[\"state\"] = trans[\"venue\"].apply(locations)\n",
        "trans[\"state\"].value_counts()"
      ],
      "execution_count": null,
      "outputs": [
        {
          "data": {
            "text/plain": [
              "VIC     13266\n",
              "WA        704\n",
              "SA        637\n",
              "QLD       605\n",
              "NSW       563\n",
              "TAS       111\n",
              "ACT        53\n",
              "NT         29\n",
              "INTL        6\n",
              "Name: state, dtype: int64"
            ]
          },
          "execution_count": 9,
          "metadata": {},
          "output_type": "execute_result"
        }
      ]
    },
    {
      "cell_type": "markdown",
      "metadata": {
        "id": "g1hw9byJqSwh"
      },
      "source": [
        "### Check that the most recent round is included:"
      ]
    },
    {
      "cell_type": "code",
      "metadata": {
        "id": "Vq_UPALpqSwi"
      },
      "source": [
        "trans.tail(9)"
      ],
      "execution_count": null,
      "outputs": []
    },
    {
      "cell_type": "markdown",
      "metadata": {
        "id": "dNir3FoRqSwi"
      },
      "source": [
        "## 1. HVAR & AGGR"
      ]
    },
    {
      "cell_type": "code",
      "metadata": {
        "id": "m0wfz-ZrqSwi"
      },
      "source": [
        "trans['hvar'] = trans['pts_1'] - trans['pts_2']\n",
        "trans['aggr'] = trans['pts_1'] + trans['pts_2'] "
      ],
      "execution_count": null,
      "outputs": []
    },
    {
      "cell_type": "markdown",
      "metadata": {
        "id": "hw8ER3GpqSwj"
      },
      "source": [
        "## 2. YEAR & MONTH"
      ]
    },
    {
      "cell_type": "code",
      "metadata": {
        "id": "K3ZI040KqSwj"
      },
      "source": [
        "import time\n",
        "import datetime"
      ],
      "execution_count": null,
      "outputs": []
    },
    {
      "cell_type": "code",
      "metadata": {
        "id": "-UW2i5WUqSwj"
      },
      "source": [
        "trans['date'] = pd.to_datetime(trans['date'])\n",
        "trans['year'], trans['month'] = trans['date'].dt.year, trans['date'].dt.month"
      ],
      "execution_count": null,
      "outputs": []
    },
    {
      "cell_type": "markdown",
      "metadata": {
        "id": "rZ65pQ4VqSwj"
      },
      "source": [
        "## 3. ABBREVIATED CLUB NAMES"
      ]
    },
    {
      "cell_type": "code",
      "metadata": {
        "id": "EdCjSRmgqSwk"
      },
      "source": [
        "adelaide = ['Adelaide']\n",
        "brisbane = ['Brisbane Bears','Brisbane Lions']\n",
        "carlton = ['Carlton']\n",
        "collingwood = ['Collingwood']\n",
        "essendon = ['Essendon']\n",
        "fitzroy = ['Fitzroy']\n",
        "footscray = ['Footscray']\n",
        "fremantle = ['Fremantle']\n",
        "geelong = ['Geelong']\n",
        "gold_coast = ['Gold Coast']\n",
        "gws = ['GW Sydney']\n",
        "hawthorn = ['Hawthorn']\n",
        "melbourne = ['Melbourne']\n",
        "north_melbourne = ['North Melbourne','Kangaroos']\n",
        "port_adelaide = ['Port Adelaide']\n",
        "richmond = ['Richmond']\n",
        "south_melbourne = ['South Melbourne']\n",
        "st_kilda = ['St Kilda']\n",
        "sydney = ['Sydney']\n",
        "west_coast = ['West Coast']\n",
        "western_bulldogs = ['Western Bulldogs', 'Footscray']\n",
        "university = ['University']"
      ],
      "execution_count": null,
      "outputs": []
    },
    {
      "cell_type": "code",
      "metadata": {
        "id": "b_KPqO8QqSwk"
      },
      "source": [
        "def team_shorten(x):\n",
        "    if x in adelaide:\n",
        "        return \"AD\"\n",
        "    elif x in brisbane:\n",
        "        return \"BR\"\n",
        "    elif x in carlton:\n",
        "        return \"CA\"\n",
        "    elif x in collingwood:\n",
        "        return \"CO\"\n",
        "    elif x in essendon:\n",
        "        return \"ES\"\n",
        "    elif x in fitzroy:\n",
        "        return \"FI\"\n",
        "    elif x in fremantle:\n",
        "        return \"FR\"\n",
        "    elif x in geelong:\n",
        "        return \"GE\"\n",
        "    elif x in gold_coast:\n",
        "        return \"GC\"\n",
        "    elif x in gws:\n",
        "        return \"GW\"\n",
        "    elif x in hawthorn:\n",
        "        return \"HA\"\n",
        "    elif x in melbourne:\n",
        "        return \"ME\"\n",
        "    elif x in north_melbourne:\n",
        "        return \"NM\"\n",
        "    elif x in port_adelaide:\n",
        "        return \"PA\"\n",
        "    elif x in richmond:\n",
        "        return \"RI\"\n",
        "    elif x in south_melbourne:\n",
        "        return \"SM\"\n",
        "    elif x in st_kilda:\n",
        "        return \"SK\"\n",
        "    elif x in sydney:\n",
        "        return \"SY\"\n",
        "    elif x in west_coast:\n",
        "        return \"WC\"\n",
        "    elif x in western_bulldogs:\n",
        "        return \"WB\"\n",
        "    elif x in university:\n",
        "        return \"UN\"\n",
        "    else: \n",
        "        return \"NOT_FOUND\""
      ],
      "execution_count": null,
      "outputs": []
    },
    {
      "cell_type": "code",
      "metadata": {
        "id": "R4cRq5TmqSwk"
      },
      "source": [
        "trans[\"t1\"] = trans[\"team1\"].apply(team_shorten)\n",
        "trans[\"t2\"] = trans[\"team2\"].apply(team_shorten)"
      ],
      "execution_count": null,
      "outputs": []
    },
    {
      "cell_type": "code",
      "metadata": {
        "id": "iVXvYsa-qSwl"
      },
      "source": [
        "trans['t1'].value_counts().sum()"
      ],
      "execution_count": null,
      "outputs": []
    },
    {
      "cell_type": "markdown",
      "metadata": {
        "id": "NLmf0JZSqSwl"
      },
      "source": [
        "# 4. FIX TEAM NAMES ANOMOLIES"
      ]
    },
    {
      "cell_type": "markdown",
      "metadata": {
        "id": "iJkXjapcqSwl"
      },
      "source": [
        "* Merge Footscray & Western Bulldogs as **Western Bulldogs**\n",
        "* Merge North Melbourne with Kangaroos as **North Melbourne**\n",
        "* Merge Brisbane Lions with Brisbane Bears as **Brisbane**\n",
        "* Leave Sydney and **South Melbourne** as separate\n",
        "* Leave **Fitzroy** as separate\n",
        "* Modify GW Sydney to **GWS Giants**"
      ]
    },
    {
      "cell_type": "code",
      "metadata": {
        "id": "K3Nl3KkiqSwl"
      },
      "source": [
        "# Function from Analytics Vidhya\n",
        "def coding(col, codeDict):\n",
        "  colCoded = pd.Series(col, copy=True)\n",
        "  for key, value in codeDict.items():\n",
        "    colCoded.replace(key, value, inplace=True)\n",
        "  return colCoded"
      ],
      "execution_count": null,
      "outputs": []
    },
    {
      "cell_type": "code",
      "metadata": {
        "id": "hmueB5D0qSwm"
      },
      "source": [
        "trans[\"team1\"] = coding(trans[\"team1\"], {'Footscray':'Western Bulldogs'})\n",
        "trans[\"team2\"] = coding(trans[\"team2\"], {'Footscray':'Western Bulldogs'})\n",
        "trans[\"team1\"] = coding(trans[\"team1\"], {'Kangaroos':'North Melbourne'})\n",
        "trans[\"team2\"] = coding(trans[\"team2\"], {'Kangaroos':'North Melbourne'})\n",
        "trans[\"team1\"] = coding(trans[\"team1\"], {'Brisbane Bears':'Brisbane','Brisbane Lions':'Brisbane'})\n",
        "trans[\"team2\"] = coding(trans[\"team2\"], {'Brisbane Bears':'Brisbane','Brisbane Lions':'Brisbane'})\n",
        "trans[\"team1\"] = coding(trans[\"team1\"], {'GW Sydney':'GWS Giants'})\n",
        "trans[\"team2\"] = coding(trans[\"team2\"], {'GW Sydney':'GWS Giants'})"
      ],
      "execution_count": null,
      "outputs": []
    },
    {
      "cell_type": "code",
      "metadata": {
        "id": "gYaxuDv-qSwm"
      },
      "source": [
        "trans[\"team2\"].value_counts()"
      ],
      "execution_count": null,
      "outputs": []
    },
    {
      "cell_type": "code",
      "metadata": {
        "id": "FnyBfI_IqSwm"
      },
      "source": [
        "trans[\"venue\"].value_counts().tail(15)"
      ],
      "execution_count": null,
      "outputs": []
    },
    {
      "cell_type": "markdown",
      "metadata": {
        "id": "TdBrpX1WqSwn"
      },
      "source": [
        "# 5. ALL DRAWS (BOOLEAN)"
      ]
    },
    {
      "cell_type": "code",
      "metadata": {
        "id": "3iZlroB9qSwn"
      },
      "source": [
        "def reg_draw(hvar):\n",
        "    if hvar == 0:\n",
        "        return 1\n",
        "    else: return 0"
      ],
      "execution_count": null,
      "outputs": []
    },
    {
      "cell_type": "code",
      "metadata": {
        "id": "ALwP6iRYqSwn"
      },
      "source": [
        "trans[\"draw_rt\"] = trans[\"hvar\"].apply(reg_draw)"
      ],
      "execution_count": null,
      "outputs": []
    },
    {
      "cell_type": "code",
      "metadata": {
        "id": "WF12dwQWqSwn"
      },
      "source": [
        "trans['draw_rt'].value_counts()"
      ],
      "execution_count": null,
      "outputs": []
    },
    {
      "cell_type": "markdown",
      "metadata": {
        "id": "XlkZgHyeqSwn"
      },
      "source": [
        "### The ET draws"
      ]
    },
    {
      "cell_type": "code",
      "metadata": {
        "id": "WfVOOx4dqSwn"
      },
      "source": [
        "def et_draw(seq):\n",
        "    if seq == 10794:\n",
        "        return 1\n",
        "    elif seq == 13203:\n",
        "        return 1\n",
        "    else: return 0"
      ],
      "execution_count": null,
      "outputs": []
    },
    {
      "cell_type": "code",
      "metadata": {
        "id": "0xz295XHqSwo"
      },
      "source": [
        "trans[\"etime_draw\"] = trans[\"seq\"].apply(et_draw)\n",
        "trans['etime_draw'].value_counts()"
      ],
      "execution_count": null,
      "outputs": []
    },
    {
      "cell_type": "code",
      "metadata": {
        "id": "pXE2hz6BqSwo"
      },
      "source": [
        "### Add the two columns\n",
        "trans['draws_all']  = trans['draw_rt'] + trans['etime_draw']\n",
        "trans['draws_all'].value_counts()"
      ],
      "execution_count": null,
      "outputs": []
    },
    {
      "cell_type": "code",
      "metadata": {
        "id": "TsJJRCaNqSwo"
      },
      "source": [
        "# Check\n",
        "trans.iloc[:,:][(trans.etime_draw == 1)]"
      ],
      "execution_count": null,
      "outputs": []
    },
    {
      "cell_type": "markdown",
      "metadata": {
        "id": "EzpFBgcVqSwo"
      },
      "source": [
        "# 6. GAME CATEGORY"
      ]
    },
    {
      "cell_type": "code",
      "metadata": {
        "id": "qzNSVF-kqSwo"
      },
      "source": [
        "finals = ['EF','QF','SF','PF','GF']"
      ],
      "execution_count": null,
      "outputs": []
    },
    {
      "cell_type": "code",
      "metadata": {
        "id": "MljfCU7sqSwo"
      },
      "source": [
        "def game_cat(x):\n",
        "    if x in finals:\n",
        "        return \"final\"\n",
        "    else: \n",
        "        return \"reg_season\""
      ],
      "execution_count": null,
      "outputs": []
    },
    {
      "cell_type": "code",
      "metadata": {
        "id": "959FsMk-qSwo"
      },
      "source": [
        "trans[\"type\"] = trans[\"round\"].apply(game_cat)"
      ],
      "execution_count": null,
      "outputs": []
    },
    {
      "cell_type": "code",
      "metadata": {
        "id": "aeYISvABqSwo"
      },
      "source": [
        "trans['type'].value_counts()"
      ],
      "execution_count": null,
      "outputs": []
    },
    {
      "cell_type": "code",
      "metadata": {
        "id": "a5sVHfI9qSwp"
      },
      "source": [
        "trans.tail()"
      ],
      "execution_count": null,
      "outputs": []
    },
    {
      "cell_type": "markdown",
      "metadata": {
        "id": "_cH4l_a-qSwp"
      },
      "source": [
        "## 7. GROUPING COLUMNS"
      ]
    },
    {
      "cell_type": "code",
      "metadata": {
        "id": "gQuJ5sqSqSwp"
      },
      "source": [
        "def grouping_2K(seq):\n",
        "    n=500\n",
        "    if seq <= 4*n:\n",
        "        return 1\n",
        "    elif seq <= 8*n:\n",
        "        return 2\n",
        "    elif seq <= 12*n:\n",
        "        return 3\n",
        "    elif seq <= 16*n:\n",
        "        return 4\n",
        "    elif seq <= 20*n:\n",
        "        return 5\n",
        "    elif seq <= 24*n:\n",
        "        return 6\n",
        "    elif seq <= 28*n:\n",
        "        return 7\n",
        "    else: return 8"
      ],
      "execution_count": null,
      "outputs": []
    },
    {
      "cell_type": "code",
      "metadata": {
        "id": "miEkyeEZqSwp"
      },
      "source": [
        "trans[\"grp_2K\"] = trans[\"seq\"].apply(grouping_2K)"
      ],
      "execution_count": null,
      "outputs": []
    },
    {
      "cell_type": "code",
      "metadata": {
        "id": "1QxnnmT2qSwp"
      },
      "source": [
        "def grouping_1K(seq):\n",
        "    n=1000\n",
        "    if seq <= n:\n",
        "        return 1\n",
        "    elif seq <= 2*n:\n",
        "        return 2\n",
        "    elif seq <= 3*n:\n",
        "        return 3\n",
        "    elif seq <= 4*n:\n",
        "        return 4\n",
        "    elif seq <= 5*n:\n",
        "        return 5\n",
        "    elif seq <= 6*n:\n",
        "        return 6\n",
        "    elif seq <= 7*n:\n",
        "        return 7\n",
        "    elif seq <= 8*n:\n",
        "        return 8\n",
        "    elif seq <= 9*n:\n",
        "        return 9\n",
        "    elif seq <= 10*n:\n",
        "        return 10\n",
        "    elif seq <= 11*n:\n",
        "        return 11\n",
        "    elif seq <= 12*n:\n",
        "        return 12\n",
        "    elif seq <= 13*n:\n",
        "        return 13\n",
        "    elif seq <= 14*n:\n",
        "        return 14\n",
        "    elif seq <= 15*n:\n",
        "        return 15\n",
        "    else: return 16"
      ],
      "execution_count": null,
      "outputs": []
    },
    {
      "cell_type": "code",
      "metadata": {
        "id": "AAhfZ0e8qSwp"
      },
      "source": [
        "trans[\"grp_1K\"] = trans[\"seq\"].apply(grouping_1K)"
      ],
      "execution_count": null,
      "outputs": []
    },
    {
      "cell_type": "markdown",
      "metadata": {
        "id": "Sd7JzRG2qSwp"
      },
      "source": [
        "## 8. ADD res1 and res2 columns as categorical 1 = win, 2 = loss, 3 = draw based on hvar (ignoring the two extra time finals)"
      ]
    },
    {
      "cell_type": "code",
      "metadata": {
        "id": "8_Dvph_lqSwq"
      },
      "source": [
        "def result_cat_h(hvar):\n",
        "    if hvar > 0:\n",
        "        return 1\n",
        "    elif hvar < 0:\n",
        "        return 2\n",
        "    else: return 3"
      ],
      "execution_count": null,
      "outputs": []
    },
    {
      "cell_type": "code",
      "metadata": {
        "id": "Q3TE_yaMqSwq"
      },
      "source": [
        "def result_cat_a(hvar):\n",
        "    if hvar > 0:\n",
        "        return 2\n",
        "    elif hvar < 0:\n",
        "        return 1\n",
        "    else: return 3"
      ],
      "execution_count": null,
      "outputs": []
    },
    {
      "cell_type": "code",
      "metadata": {
        "id": "_UPtDNmlqSwq"
      },
      "source": [
        "trans['res1'] = trans['hvar'].apply(result_cat_h)\n",
        "trans['res2'] = trans['hvar'].apply(result_cat_a)"
      ],
      "execution_count": null,
      "outputs": []
    },
    {
      "cell_type": "code",
      "metadata": {
        "id": "SGWbSxjhqSwq"
      },
      "source": [
        "trans.head()"
      ],
      "execution_count": null,
      "outputs": []
    },
    {
      "cell_type": "markdown",
      "metadata": {
        "id": "eJfQ17ZZqSwq"
      },
      "source": [
        "## Export wide format results since 1897"
      ]
    },
    {
      "cell_type": "code",
      "metadata": {
        "id": "nZlK7tl2qSwq"
      },
      "source": [
        "trans.to_csv('wide_afl_run.csv')"
      ],
      "execution_count": null,
      "outputs": []
    },
    {
      "cell_type": "markdown",
      "metadata": {
        "id": "CG-yuo2pqSwq"
      },
      "source": [
        "# PAGEBREAK"
      ]
    },
    {
      "cell_type": "markdown",
      "metadata": {
        "id": "kqCrNI2NqSwq"
      },
      "source": [
        "# Convert data frame from wide to long format - each game appears twice (once for each team)"
      ]
    },
    {
      "cell_type": "markdown",
      "metadata": {
        "id": "_RmJ4X6vqSwr"
      },
      "source": [
        "## 9. Reduce and re-order the data frame"
      ]
    },
    {
      "cell_type": "code",
      "metadata": {
        "id": "9OS_e_MTqSwr"
      },
      "source": [
        "tracker = trans\n",
        "tracker = tracker[['year', 'team1','pts_1','team2','pts_2','venue','t1','t2','hvar']]\n",
        "tracker.tail()"
      ],
      "execution_count": null,
      "outputs": []
    },
    {
      "cell_type": "markdown",
      "metadata": {
        "id": "cpjTVh-AqSwr"
      },
      "source": [
        "### Create two new columns with values 1 and 0 for the two subsets"
      ]
    },
    {
      "cell_type": "code",
      "metadata": {
        "id": "sU2tH-FCqSwr"
      },
      "source": [
        "tracker['subset_1'] = 1\n",
        "tracker['subset_2'] = 0"
      ],
      "execution_count": null,
      "outputs": []
    },
    {
      "cell_type": "code",
      "metadata": {
        "id": "0u_EMcYyqSwr"
      },
      "source": [
        "tracker.head()"
      ],
      "execution_count": null,
      "outputs": []
    },
    {
      "cell_type": "markdown",
      "metadata": {
        "id": "tI-blJElqSwr"
      },
      "source": [
        "### List for dropping "
      ]
    },
    {
      "cell_type": "code",
      "metadata": {
        "id": "n52qlEZOqSwr"
      },
      "source": [
        "droplist_1 = ['subset_2']\n",
        "droplist_2 = ['subset_1']"
      ],
      "execution_count": null,
      "outputs": []
    },
    {
      "cell_type": "code",
      "metadata": {
        "id": "JCsmXu24qSws"
      },
      "source": [
        "left_team = tracker.drop(droplist_1, axis = 1)\n",
        "right_team = tracker.drop(droplist_2, axis = 1)"
      ],
      "execution_count": null,
      "outputs": []
    },
    {
      "cell_type": "code",
      "metadata": {
        "id": "vvWkG7zuqSws"
      },
      "source": [
        "left_team.shape"
      ],
      "execution_count": null,
      "outputs": []
    },
    {
      "cell_type": "code",
      "metadata": {
        "id": "sMvx5MjoqSws"
      },
      "source": [
        "right_team.shape"
      ],
      "execution_count": null,
      "outputs": []
    },
    {
      "cell_type": "markdown",
      "metadata": {
        "id": "h7noWDdKqSws"
      },
      "source": [
        "### Rename columns in each dframe "
      ]
    },
    {
      "cell_type": "code",
      "metadata": {
        "id": "MBKk39OoqSws"
      },
      "source": [
        "left_team.tail()"
      ],
      "execution_count": null,
      "outputs": []
    },
    {
      "cell_type": "code",
      "metadata": {
        "id": "Aw79nREoqSws"
      },
      "source": [
        "left_team.columns = ['year','team','tm_pts','opp_team','op_pts','venue','tm','op','hvar','lr']"
      ],
      "execution_count": null,
      "outputs": []
    },
    {
      "cell_type": "code",
      "metadata": {
        "id": "CQHYfHh2qSws"
      },
      "source": [
        "left_team.tail()"
      ],
      "execution_count": null,
      "outputs": []
    },
    {
      "cell_type": "code",
      "metadata": {
        "id": "YpzDabZQqSws"
      },
      "source": [
        "right_team.tail()"
      ],
      "execution_count": null,
      "outputs": []
    },
    {
      "cell_type": "code",
      "metadata": {
        "id": "SFK3A1pDqSws"
      },
      "source": [
        "right_team.columns = ['year','opp_team','op_pts','team','tm_pts','venue','op','tm','hvar','lr']"
      ],
      "execution_count": null,
      "outputs": []
    },
    {
      "cell_type": "code",
      "metadata": {
        "id": "KpaA4dpUqSwt"
      },
      "source": [
        "right_team.tail()"
      ],
      "execution_count": null,
      "outputs": []
    },
    {
      "cell_type": "markdown",
      "metadata": {
        "id": "Dv_ucajNqSwt"
      },
      "source": [
        "### Now re-order the second dframe to match columns"
      ]
    },
    {
      "cell_type": "markdown",
      "metadata": {
        "id": "hJ3C2PN7qSwt"
      },
      "source": [
        "### Note double brackets to re-order"
      ]
    },
    {
      "cell_type": "code",
      "metadata": {
        "id": "Dk2jYqLRqSwt"
      },
      "source": [
        "right_team = right_team[['year', 'team','tm_pts','opp_team','op_pts','venue','tm','op','hvar','lr']]\n",
        "right_team.tail()"
      ],
      "execution_count": null,
      "outputs": []
    },
    {
      "cell_type": "code",
      "metadata": {
        "id": "ZhCnbVvlqSwt"
      },
      "source": [
        "left_team.tail()"
      ],
      "execution_count": null,
      "outputs": []
    },
    {
      "cell_type": "markdown",
      "metadata": {
        "id": "2hxvymdCqSwt"
      },
      "source": [
        "## CONCATENATION"
      ]
    },
    {
      "cell_type": "markdown",
      "metadata": {
        "id": "jfiBuafsqSwt"
      },
      "source": [
        "### Now very easily, can concatenate the two dframes"
      ]
    },
    {
      "cell_type": "code",
      "metadata": {
        "id": "2v7EdbasqSwu"
      },
      "source": [
        "merge_ft = pd.concat([left_team, right_team], axis=0)\n",
        "merge_ft.head()"
      ],
      "execution_count": null,
      "outputs": []
    },
    {
      "cell_type": "code",
      "metadata": {
        "id": "gQrAleTrqSwu"
      },
      "source": [
        "merge_ft.shape"
      ],
      "execution_count": null,
      "outputs": []
    },
    {
      "cell_type": "code",
      "metadata": {
        "id": "WuKqOh31qSwu"
      },
      "source": [
        "merge_ft.tail()"
      ],
      "execution_count": null,
      "outputs": []
    },
    {
      "cell_type": "code",
      "metadata": {
        "id": "-PiAcBLyqSwu"
      },
      "source": [
        "merge_ft.sort_index(inplace=True)\n",
        "merge_ft.head(10)"
      ],
      "execution_count": null,
      "outputs": []
    },
    {
      "cell_type": "markdown",
      "metadata": {
        "id": "PtYPmAr7qSwu"
      },
      "source": [
        "## Create team result column"
      ]
    },
    {
      "cell_type": "code",
      "metadata": {
        "id": "IWVljp-RqSwu"
      },
      "source": [
        "def neg_hvar(hvar):\n",
        "        return -1*hvar"
      ],
      "execution_count": null,
      "outputs": []
    },
    {
      "cell_type": "code",
      "metadata": {
        "id": "KuhTI-X4qSwu"
      },
      "source": [
        "merge_ft[\"neg_dummy\"] = merge_ft['hvar'].apply(neg_hvar)"
      ],
      "execution_count": null,
      "outputs": []
    },
    {
      "cell_type": "code",
      "metadata": {
        "id": "mr3R0dHlqSwu"
      },
      "source": [
        "merge_ft.tail()"
      ],
      "execution_count": null,
      "outputs": []
    },
    {
      "cell_type": "code",
      "metadata": {
        "id": "yD55mbKxqSwv"
      },
      "source": [
        "def team_var(hvar):\n",
        "    if merge_ft['lr'] == 1:\n",
        "        return hvar\n",
        "    else: return neg_dummy"
      ],
      "execution_count": null,
      "outputs": []
    },
    {
      "cell_type": "code",
      "metadata": {
        "id": "YmYtYo3QqSwv"
      },
      "source": [
        "def new_lr(lr):\n",
        "    if lr == 0:\n",
        "        return -1\n",
        "    else: return 1"
      ],
      "execution_count": null,
      "outputs": []
    },
    {
      "cell_type": "code",
      "metadata": {
        "id": "OaBf35XyqSwv"
      },
      "source": [
        "merge_ft[\"new_lr\"] = merge_ft['lr'].apply(new_lr)\n",
        "merge_ft[\"tm_var\"] = merge_ft['new_lr']*merge_ft['hvar']"
      ],
      "execution_count": null,
      "outputs": []
    },
    {
      "cell_type": "code",
      "metadata": {
        "id": "frPk_xxrqSwv"
      },
      "source": [
        "merge_ft.tail()"
      ],
      "execution_count": null,
      "outputs": []
    },
    {
      "cell_type": "markdown",
      "metadata": {
        "id": "_WYEn3nZqSwv"
      },
      "source": [
        "### Can now remove the columns new_lr and neg_dummy, which were used to create tm_var"
      ]
    },
    {
      "cell_type": "code",
      "metadata": {
        "id": "XrMSGQQhqSwv"
      },
      "source": [
        "merge_ft = merge_ft.drop(['neg_dummy', 'new_lr'], axis=1)"
      ],
      "execution_count": null,
      "outputs": []
    },
    {
      "cell_type": "code",
      "metadata": {
        "id": "ySLLF-FNqSwv"
      },
      "source": [
        "merge_ft.head()"
      ],
      "execution_count": null,
      "outputs": []
    },
    {
      "cell_type": "markdown",
      "metadata": {
        "id": "9H467v0UqSwv"
      },
      "source": [
        "## Export as csv"
      ]
    },
    {
      "cell_type": "code",
      "metadata": {
        "id": "UDM_dOdcqSww"
      },
      "source": [
        "merge_ft.to_csv('running_2019_R15.csv')"
      ],
      "execution_count": null,
      "outputs": []
    },
    {
      "cell_type": "code",
      "metadata": {
        "id": "5k9Z81rKqSww"
      },
      "source": [
        ""
      ],
      "execution_count": null,
      "outputs": []
    }
  ]
}